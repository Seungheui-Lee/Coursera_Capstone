{
    "cells": [
        {
            "cell_type": "markdown",
            "metadata": {
                "collapsed": true
            },
            "source": "# Capstone Project - The Battle of Neighborhoods (Week 1)"
        },
        {
            "cell_type": "markdown",
            "metadata": {},
            "source": "Describe the data that you will be using to solve the problem or execute your idea. Remember that you will need to use the Foursquare location data to solve the problem or execute your idea. You can absolutely use other datasets in combination with the Foursquare location data. So make sure that you provide adequate explanation and discussion, with examples, of the data that you will be using, even if it is only Foursquare location data.\n\nThis submission will eventually become your Data section in your final report. So I recommend that you push the report (having your Data section) to your Github repository and submit a link to it."
        },
        {
            "cell_type": "markdown",
            "metadata": {},
            "source": "## 2. Data"
        },
        {
            "cell_type": "markdown",
            "metadata": {},
            "source": "In this section, a description of the data and how it will be used to solve the problem is provided."
        },
        {
            "cell_type": "markdown",
            "metadata": {},
            "source": "### 2.1. Description of the data"
        },
        {
            "cell_type": "markdown",
            "metadata": {},
            "source": "We will use the following data to find the most promising borough for Lee.\n\n1. Average price per m\u00b2 of the apartments in Hannover : This information was collected on web page 'https://mietspiegeltabelle.de/mietspiegel-hannover/'. Some modifications need to be performed to transform the dataframe in a format that can be used for further analysis.\n![alt text](Images/mietpreis.JPG \"Average Price\")\n2. Information about the venues in all boroughs of Hannover : This information was collected on web page 'https://www.suche-postleitzahl.org/hannover-plz-30159-30669.45d1#ortsteile'. As the format does not fit our further data processing requirements, it needs to be transformed. Once the data is in the right format, the Geocoder Python package (https://geocoder.readthedocs.io/index.html) is used to receive the latitude and logitude coordinate for all of the boroughs. The boroughs and their corresponding latitude and longitude are used as input for FourSquare to source information about the boroughs.\n![alt text](Images/plz.JPG \"Postal Code\")"
        },
        {
            "cell_type": "markdown",
            "metadata": {},
            "source": "### 2.2. How data will be used to solve the problem"
        },
        {
            "cell_type": "markdown",
            "metadata": {},
            "source": "We will start with an exploratory data analysis, where we intend to understand the underlying data. The describe method provides valuable insights for the \"average price per m\u00b2 of the apartments in Hannover\" investigations.\n\nTo get a first impression about the distribution of venues in Hannover, they are visualized using Folium map. The chosen color code will give immediate yet superficial insight, how Lee's favourite venues are distibuted across Hannover.\n\nOne hot encoding and k-means will narrow the list of the most promising boroughs to three. Combining these with the pricing analysis we could recommend the best borough match for Lee."
        }
    ],
    "metadata": {
        "kernelspec": {
            "display_name": "Python 3.7",
            "language": "python",
            "name": "python3"
        },
        "language_info": {
            "codemirror_mode": {
                "name": "ipython",
                "version": 3
            },
            "file_extension": ".py",
            "mimetype": "text/x-python",
            "name": "python",
            "nbconvert_exporter": "python",
            "pygments_lexer": "ipython3",
            "version": "3.7.9"
        }
    },
    "nbformat": 4,
    "nbformat_minor": 1
}
