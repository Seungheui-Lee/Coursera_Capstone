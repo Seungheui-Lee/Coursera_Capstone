{
    "cells": [
        {
            "cell_type": "markdown",
            "metadata": {
                "collapsed": true
            },
            "source": "# Capstone Project - The Battle of Neighborhoods (Week 1)"
        },
        {
            "cell_type": "markdown",
            "metadata": {},
            "source": "Clearly define a problem or an idea of your choice, where you would need to leverage the Foursquare location data to solve or execute. Remember that data science problems always target an audience and are meant to help a group of stakeholders solve a problem, so make sure that you explicitly describe your audience and why they would care about your problem.\n\nThis submission will eventually become your Introduction/Business Problem section in your final report. So I recommend that you push the report (having your Introduction/Business Problem section only for now) to your Github repository and submit a link to it."
        },
        {
            "cell_type": "markdown",
            "metadata": {},
            "source": "## 1. Introduction"
        },
        {
            "cell_type": "markdown",
            "metadata": {},
            "source": "In this section, a description of the problem and a discussion of the background is provided."
        },
        {
            "cell_type": "markdown",
            "metadata": {},
            "source": "### 1.1. Background"
        },
        {
            "cell_type": "markdown",
            "metadata": {},
            "source": "People move to new places for a variety of reasons, including work, study, and marriage. When moving to a new place, people consider not only the price of the house but also the various surroundings. Different people will have different considerations. For example, someone would want a park close and someone would prefer a market close. So how can we find a place according to our preferences? In this report, we try to solve this problem with a data science approach."
        },
        {
            "cell_type": "markdown",
            "metadata": {},
            "source": "### 1.2. Problem"
        },
        {
            "cell_type": "markdown",
            "metadata": {},
            "source": "In this report, we will recommend suitable areas for the Lee's family who are moving to Hannover. Lee wants to have a supermarket near his place and he wish there is a park nearby, where he could take a walk with his family, and he likes restaurants where he can eat out, and a cafe with a nice atmosphere. Finally, he is thinking of a monthly rent of 15\u20ac/m\u00b2."
        },
        {
            "cell_type": "markdown",
            "metadata": {},
            "source": "### 1.3. Target"
        },
        {
            "cell_type": "markdown",
            "metadata": {},
            "source": "This report is an analysis of the boroughs in Hannover customized to the needs of Lee. However, the approach is applicable to everyone with any specific needs. Based on venue information obtained from Foursquare, this recommendation approach could actually be used in real estate to recommend the desired place to customers."
        }
    ],
    "metadata": {
        "kernelspec": {
            "display_name": "Python 3.7",
            "language": "python",
            "name": "python3"
        },
        "language_info": {
            "codemirror_mode": {
                "name": "ipython",
                "version": 3
            },
            "file_extension": ".py",
            "mimetype": "text/x-python",
            "name": "python",
            "nbconvert_exporter": "python",
            "pygments_lexer": "ipython3",
            "version": "3.7.9"
        }
    },
    "nbformat": 4,
    "nbformat_minor": 1
}